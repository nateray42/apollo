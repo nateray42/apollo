{
 "cells": [
  {
   "cell_type": "code",
   "execution_count": 1,
   "id": "a13af44e",
   "metadata": {},
   "outputs": [],
   "source": [
    "from bs4 import BeautifulSoup\n",
    "import pandas as pd\n",
    "import re\n",
    "import requests"
   ]
  },
  {
   "cell_type": "code",
   "execution_count": 19,
   "id": "56c55f47",
   "metadata": {},
   "outputs": [],
   "source": [
    "from requests.packages.urllib3.exceptions import InsecureRequestWarning\n",
    "\n",
    "requests.packages.urllib3.disable_warnings(InsecureRequestWarning)"
   ]
  },
  {
   "cell_type": "code",
   "execution_count": 2,
   "id": "f93ffc75",
   "metadata": {},
   "outputs": [],
   "source": [
    "url = 'http://botrank.pastimes.eu/?sort=rank&page='"
   ]
  },
  {
   "cell_type": "code",
   "execution_count": 4,
   "id": "3d89471c",
   "metadata": {},
   "outputs": [],
   "source": [
    "bot_db = pd.DataFrame()"
   ]
  },
  {
   "cell_type": "code",
   "execution_count": 8,
   "id": "f583d60f",
   "metadata": {},
   "outputs": [],
   "source": [
    "def web_crawler(url):\n",
    "    req = requests.get(url, verify = False)\n",
    "    soup = BeautifulSoup(req.content, 'html.parser')\n",
    "    table = soup.find_all('table')\n",
    "    df = pd.read_html(str(table), index_col = \"Rank\")[0]\n",
    "    return df"
   ]
  },
  {
   "cell_type": "code",
   "execution_count": 22,
   "id": "927b1e63",
   "metadata": {},
   "outputs": [],
   "source": [
    "for i in range(10):\n",
    "    page_url = url + str(i+1)\n",
    "    df = web_crawler(page_url)\n",
    "    bot_db = pd.concat([bot_db, df])"
   ]
  },
  {
   "cell_type": "code",
   "execution_count": 25,
   "id": "3e6bac4b",
   "metadata": {},
   "outputs": [
    {
     "data": {
      "text/html": [
       "<div>\n",
       "<style scoped>\n",
       "    .dataframe tbody tr th:only-of-type {\n",
       "        vertical-align: middle;\n",
       "    }\n",
       "\n",
       "    .dataframe tbody tr th {\n",
       "        vertical-align: top;\n",
       "    }\n",
       "\n",
       "    .dataframe thead th {\n",
       "        text-align: right;\n",
       "    }\n",
       "</style>\n",
       "<table border=\"1\" class=\"dataframe\">\n",
       "  <thead>\n",
       "    <tr style=\"text-align: right;\">\n",
       "      <th></th>\n",
       "      <th>Bot Name</th>\n",
       "      <th>Score</th>\n",
       "      <th>Good Bot Votes</th>\n",
       "      <th>Bad Bot Votes</th>\n",
       "      <th>Comment Karma</th>\n",
       "      <th>Link Karma</th>\n",
       "    </tr>\n",
       "    <tr>\n",
       "      <th>Rank</th>\n",
       "      <th></th>\n",
       "      <th></th>\n",
       "      <th></th>\n",
       "      <th></th>\n",
       "      <th></th>\n",
       "      <th></th>\n",
       "    </tr>\n",
       "  </thead>\n",
       "  <tbody>\n",
       "    <tr>\n",
       "      <th>1</th>\n",
       "      <td>KickOpenTheDoorBot</td>\n",
       "      <td>0.9932</td>\n",
       "      <td>21014</td>\n",
       "      <td>120</td>\n",
       "      <td>39387</td>\n",
       "      <td>98880</td>\n",
       "    </tr>\n",
       "    <tr>\n",
       "      <th>2</th>\n",
       "      <td>Canna_Tips</td>\n",
       "      <td>0.9921</td>\n",
       "      <td>18181</td>\n",
       "      <td>121</td>\n",
       "      <td>49964</td>\n",
       "      <td>1</td>\n",
       "    </tr>\n",
       "    <tr>\n",
       "      <th>3</th>\n",
       "      <td>MrTechnodad</td>\n",
       "      <td>0.9914</td>\n",
       "      <td>2136</td>\n",
       "      <td>10</td>\n",
       "      <td>420008</td>\n",
       "      <td>73713</td>\n",
       "    </tr>\n",
       "    <tr>\n",
       "      <th>4</th>\n",
       "      <td>BigJets</td>\n",
       "      <td>0.9905</td>\n",
       "      <td>2189</td>\n",
       "      <td>12</td>\n",
       "      <td>48004</td>\n",
       "      <td>39701</td>\n",
       "    </tr>\n",
       "    <tr>\n",
       "      <th>5</th>\n",
       "      <td>properu</td>\n",
       "      <td>0.9899</td>\n",
       "      <td>2313</td>\n",
       "      <td>14</td>\n",
       "      <td>169365</td>\n",
       "      <td>7</td>\n",
       "    </tr>\n",
       "  </tbody>\n",
       "</table>\n",
       "</div>"
      ],
      "text/plain": [
       "                Bot Name   Score  Good Bot Votes  Bad Bot Votes  \\\n",
       "Rank                                                              \n",
       "1     KickOpenTheDoorBot  0.9932           21014            120   \n",
       "2             Canna_Tips  0.9921           18181            121   \n",
       "3            MrTechnodad  0.9914            2136             10   \n",
       "4                BigJets  0.9905            2189             12   \n",
       "5                properu  0.9899            2313             14   \n",
       "\n",
       "      Comment Karma  Link Karma  \n",
       "Rank                             \n",
       "1             39387       98880  \n",
       "2             49964           1  \n",
       "3            420008       73713  \n",
       "4             48004       39701  \n",
       "5            169365           7  "
      ]
     },
     "execution_count": 25,
     "metadata": {},
     "output_type": "execute_result"
    }
   ],
   "source": [
    "bot_db.head()"
   ]
  },
  {
   "cell_type": "code",
   "execution_count": 26,
   "id": "51f9d684",
   "metadata": {},
   "outputs": [],
   "source": [
    "df = pd.DataFrame(bot_db)\n",
    "df.to_csv('bot_list.csv')"
   ]
  }
 ],
 "metadata": {
  "kernelspec": {
   "display_name": "Python 3 (ipykernel)",
   "language": "python",
   "name": "python3"
  },
  "language_info": {
   "codemirror_mode": {
    "name": "ipython",
    "version": 3
   },
   "file_extension": ".py",
   "mimetype": "text/x-python",
   "name": "python",
   "nbconvert_exporter": "python",
   "pygments_lexer": "ipython3",
   "version": "3.9.7"
  }
 },
 "nbformat": 4,
 "nbformat_minor": 5
}
