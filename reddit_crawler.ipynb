{
 "cells": [
  {
   "cell_type": "code",
   "execution_count": 1,
   "id": "1da823cd",
   "metadata": {},
   "outputs": [
    {
     "name": "stderr",
     "output_type": "stream",
     "text": [
      "Version 7.6.0 of praw is outdated. Version 7.6.1 was released Friday November 11, 2022.\n"
     ]
    }
   ],
   "source": [
    "import praw\n",
    "import pandas as pd\n",
    "import json\n",
    "from tqdm.notebook import tqdm\n",
    "\n",
    "client_id = 'QXgnNilxAJoowxnJqYSUmA'\n",
    "client_secret = 'oigCTLqOddP8NkRg_CHbFDI0SElr3w'\n",
    "\n",
    "reddit = praw.Reddit(client_id = client_id,\n",
    "                     client_secret = client_secret,\n",
    "                     user_agent = 'IS 596')"
   ]
  },
  {
   "cell_type": "code",
   "execution_count": 2,
   "id": "4746cc90",
   "metadata": {},
   "outputs": [],
   "source": [
    "subreddit_list = [\"politics\", \"worldnews\", \"conservative\",\n",
    "                  \"conspiracy\", \"NeutralPolitics\", \"AMA\"]"
   ]
  },
  {
   "cell_type": "code",
   "execution_count": 3,
   "id": "77e4f52e",
   "metadata": {},
   "outputs": [],
   "source": [
    "def subreddit_crawler(sub, limit = 10):\n",
    "    subreddit = reddit.subreddit(sub)\n",
    "    post_list = []\n",
    "    submission_fields = ['id', 'author', 'title', 'selftext', 'num_comments',\n",
    "              'score', 'upvote_ratio', 'created_utc', 'url']\n",
    "    for submission in subreddit.top(limit = limit, time_filter = \"year\"):\n",
    "        to_dict = vars(submission)\n",
    "        sub_dict = {field:to_dict[field] for field in submission_fields}\n",
    "        post_list.append(sub_dict)\n",
    "    \n",
    "    subs_data = pd.DataFrame(data = post_list, columns=submission_fields)\n",
    "    file_name = \"data/\" + \"submission_\" + sub + \".csv\"\n",
    "    subs_data.to_csv(file_name, index = False)"
   ]
  },
  {
   "cell_type": "code",
   "execution_count": 4,
   "id": "ca07c767",
   "metadata": {},
   "outputs": [],
   "source": [
    "def data_processing(sub, field = \"submission\"):\n",
    "    file_name = \"data/\" + field + \"_\" + sub + \".csv\"\n",
    "    df = pd.read_csv(file_name,index_col=0)\n",
    "    print(\"subreddit : \" + sub)\n",
    "    print(df.describe())\n",
    "    print(df.info())"
   ]
  },
  {
   "cell_type": "code",
   "execution_count": 5,
   "id": "1bdac295",
   "metadata": {},
   "outputs": [],
   "source": [
    "def comment_parser(sub, checkpoint = 0):\n",
    "    file_name = \"data/\" + \"submission_\" + sub + \".csv\"\n",
    "    df = pd.read_csv(file_name)\n",
    "    \n",
    "    sublist = df[\"id\"].tolist()\n",
    "    sublist = sublist[checkpoint:]\n",
    "    fields = ['id', 'author', 'body',  'parent_id',\n",
    "              'score', 'subreddit', 'subreddit_id', 'submission_id']\n",
    "    parsing_fields = ['id', 'author', 'body',  'parent_id',\n",
    "              'score', 'subreddit', 'subreddit_id']\n",
    "    \n",
    "    file_name = \"data/\" + \"comment_\" + sub + \".csv\"\n",
    "    \n",
    "    if not checkpoint:\n",
    "        df = pd.DataFrame(columns=fields)\n",
    "        df.to_csv(file_name)\n",
    "    \n",
    "    for post in tqdm(sublist):\n",
    "        comment_list = []\n",
    "        submission = reddit.submission(post)\n",
    "        submission.comments.replace_more(limit=8)\n",
    "        for comment in submission.comments.list():\n",
    "            to_dict = vars(comment)\n",
    "            sub_dict = {field:to_dict[field] for field in parsing_fields}\n",
    "            sub_dict.update({'submission' : submission.id})\n",
    "            comment_list.append(sub_dict)\n",
    "        df = pd.DataFrame(data = comment_list)\n",
    "        df.to_csv(file_name, mode='a', header = False)\n",
    "            \n",
    "#     comm_data = pd.DataFrame(data = comment_list, columns=fields)\n",
    "#     file_name = \"data/\" + sub + \"_comment.csv\"\n",
    "#     subs_data.to_csv(file_name, index = False)"
   ]
  },
  {
   "cell_type": "code",
   "execution_count": 25,
   "id": "8cea7f02",
   "metadata": {},
   "outputs": [
    {
     "data": {
      "application/vnd.jupyter.widget-view+json": {
       "model_id": "b13db635737e4ba2936ee8b6d41bf5fd",
       "version_major": 2,
       "version_minor": 0
      },
      "text/plain": [
       "  0%|          | 0/1 [00:00<?, ?it/s]"
      ]
     },
     "metadata": {},
     "output_type": "display_data"
    }
   ],
   "source": [
    "for sub in tqdm(subreddit_list[5:]):\n",
    "    subreddit_crawler(sub, limit = 1000)"
   ]
  },
  {
   "cell_type": "code",
   "execution_count": 100,
   "id": "b022aff9",
   "metadata": {
    "scrolled": false
   },
   "outputs": [
    {
     "name": "stdout",
     "output_type": "stream",
     "text": [
      "subreddit : politics\n",
      "       num_comments          score  upvote_ratio\n",
      "count   1000.000000    1000.000000    1000.00000\n",
      "mean    3351.287000   47589.902000       0.87574\n",
      "std     2525.661836   15315.985498       0.05474\n",
      "min      511.000000   28821.000000       0.65000\n",
      "25%     1926.000000   36101.750000       0.85000\n",
      "50%     2805.000000   43838.500000       0.89000\n",
      "75%     4165.000000   55091.000000       0.91000\n",
      "max    39789.000000  119394.000000       0.97000\n",
      "<class 'pandas.core.frame.DataFrame'>\n",
      "RangeIndex: 1000 entries, 0 to 999\n",
      "Data columns (total 8 columns):\n",
      " #   Column        Non-Null Count  Dtype  \n",
      "---  ------        --------------  -----  \n",
      " 0   id            1000 non-null   object \n",
      " 1   author        960 non-null    object \n",
      " 2   title         1000 non-null   object \n",
      " 3   selftext      9 non-null      object \n",
      " 4   num_comments  1000 non-null   int64  \n",
      " 5   score         1000 non-null   int64  \n",
      " 6   upvote_ratio  1000 non-null   float64\n",
      " 7   url           1000 non-null   object \n",
      "dtypes: float64(1), int64(2), object(5)\n",
      "memory usage: 62.6+ KB\n",
      "None\n",
      "subreddit : worldnews\n",
      "       num_comments          score  upvote_ratio\n",
      "count    995.000000     995.000000    995.000000\n",
      "mean    3278.455276   51355.911558      0.909397\n",
      "std     2421.481012   23403.068671      0.048210\n",
      "min      351.000000   26378.000000      0.580000\n",
      "25%     1695.000000   34190.000000      0.890000\n",
      "50%     2654.000000   44976.000000      0.920000\n",
      "75%     4194.000000   60664.500000      0.940000\n",
      "max    36275.000000  200154.000000      0.980000\n",
      "<class 'pandas.core.frame.DataFrame'>\n",
      "RangeIndex: 995 entries, 0 to 994\n",
      "Data columns (total 8 columns):\n",
      " #   Column        Non-Null Count  Dtype  \n",
      "---  ------        --------------  -----  \n",
      " 0   id            995 non-null    object \n",
      " 1   author        973 non-null    object \n",
      " 2   title         995 non-null    object \n",
      " 3   selftext      1 non-null      object \n",
      " 4   num_comments  995 non-null    int64  \n",
      " 5   score         995 non-null    int64  \n",
      " 6   upvote_ratio  995 non-null    float64\n",
      " 7   url           995 non-null    object \n",
      "dtypes: float64(1), int64(2), object(5)\n",
      "memory usage: 62.3+ KB\n",
      "None\n",
      "subreddit : conservative\n",
      "       num_comments         score  upvote_ratio\n",
      "count   1000.000000   1000.000000   1000.000000\n",
      "mean     380.323000   3078.200000      0.785340\n",
      "std      418.127738   2088.620166      0.088653\n",
      "min       21.000000   1993.000000      0.550000\n",
      "25%      180.000000   2240.750000      0.720000\n",
      "50%      284.000000   2599.500000      0.780000\n",
      "75%      439.250000   3191.500000      0.860000\n",
      "max     4875.000000  39215.000000      0.970000\n",
      "<class 'pandas.core.frame.DataFrame'>\n",
      "RangeIndex: 1000 entries, 0 to 999\n",
      "Data columns (total 8 columns):\n",
      " #   Column        Non-Null Count  Dtype  \n",
      "---  ------        --------------  -----  \n",
      " 0   id            1000 non-null   object \n",
      " 1   author        970 non-null    object \n",
      " 2   title         1000 non-null   object \n",
      " 3   selftext      14 non-null     object \n",
      " 4   num_comments  1000 non-null   int64  \n",
      " 5   score         1000 non-null   int64  \n",
      " 6   upvote_ratio  1000 non-null   float64\n",
      " 7   url           1000 non-null   object \n",
      "dtypes: float64(1), int64(2), object(5)\n",
      "memory usage: 62.6+ KB\n",
      "None\n",
      "subreddit : conspiracy\n",
      "       num_comments         score  upvote_ratio\n",
      "count   1000.000000   1000.000000   1000.000000\n",
      "mean     739.800000   3841.171000      0.856210\n",
      "std      514.661207   1796.160594      0.071287\n",
      "min       64.000000   2336.000000      0.570000\n",
      "25%      377.000000   2750.000000      0.810000\n",
      "50%      616.000000   3310.000000      0.860000\n",
      "75%      962.250000   4329.000000      0.910000\n",
      "max     5393.000000  23834.000000      0.980000\n",
      "<class 'pandas.core.frame.DataFrame'>\n",
      "RangeIndex: 1000 entries, 0 to 999\n",
      "Data columns (total 8 columns):\n",
      " #   Column        Non-Null Count  Dtype  \n",
      "---  ------        --------------  -----  \n",
      " 0   id            1000 non-null   object \n",
      " 1   author        939 non-null    object \n",
      " 2   title         1000 non-null   object \n",
      " 3   selftext      170 non-null    object \n",
      " 4   num_comments  1000 non-null   int64  \n",
      " 5   score         1000 non-null   int64  \n",
      " 6   upvote_ratio  1000 non-null   float64\n",
      " 7   url           1000 non-null   object \n",
      "dtypes: float64(1), int64(2), object(5)\n",
      "memory usage: 62.6+ KB\n",
      "None\n"
     ]
    }
   ],
   "source": [
    "for sub in subreddit_list:\n",
    "    data_processing(sub)"
   ]
  },
  {
   "cell_type": "code",
   "execution_count": 26,
   "id": "6bdd43b2",
   "metadata": {},
   "outputs": [
    {
     "data": {
      "application/vnd.jupyter.widget-view+json": {
       "model_id": "f486f46773334d21876f1ae1ff498cf3",
       "version_major": 2,
       "version_minor": 0
      },
      "text/plain": [
       "  0%|          | 0/1 [00:00<?, ?it/s]"
      ]
     },
     "metadata": {},
     "output_type": "display_data"
    },
    {
     "data": {
      "application/vnd.jupyter.widget-view+json": {
       "model_id": "0b64baaedda142f694d132270fcc638f",
       "version_major": 2,
       "version_minor": 0
      },
      "text/plain": [
       "  0%|          | 0/1000 [00:00<?, ?it/s]"
      ]
     },
     "metadata": {},
     "output_type": "display_data"
    }
   ],
   "source": [
    "for sub in tqdm(subreddit_list[5:]):\n",
    "    comment_parser(sub, checkpoint = 0)"
   ]
  },
  {
   "cell_type": "code",
   "execution_count": null,
   "id": "6ef3ffa6",
   "metadata": {},
   "outputs": [],
   "source": []
  }
 ],
 "metadata": {
  "kernelspec": {
   "display_name": "Python 3 (ipykernel)",
   "language": "python",
   "name": "python3"
  },
  "language_info": {
   "codemirror_mode": {
    "name": "ipython",
    "version": 3
   },
   "file_extension": ".py",
   "mimetype": "text/x-python",
   "name": "python",
   "nbconvert_exporter": "python",
   "pygments_lexer": "ipython3",
   "version": "3.9.7"
  }
 },
 "nbformat": 4,
 "nbformat_minor": 5
}
