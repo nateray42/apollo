{
 "cells": [
  {
   "cell_type": "code",
   "execution_count": 3,
   "id": "a9f7a96b",
   "metadata": {
    "pycharm": {
     "name": "#%%\n"
    }
   },
   "outputs": [
    {
     "name": "stderr",
     "output_type": "stream",
     "text": [
      "C:\\ProgramData\\Anaconda3\\envs\\IS_596\\lib\\site-packages\\scipy\\__init__.py:146: UserWarning: A NumPy version >=1.16.5 and <1.23.0 is required for this version of SciPy (detected version 1.23.4\n",
      "  warnings.warn(f\"A NumPy version >={np_minversion} and <{np_maxversion}\"\n"
     ]
    }
   ],
   "source": [
    "import pandas as pd\n",
    "import seaborn as sns\n",
    "import matplotlib.pyplot as plt\n",
    "import networkx as nx\n",
    "import numpy as np\n",
    "from collections import Counter\n",
    "from pyvis.network import Network"
   ]
  },
  {
   "cell_type": "code",
   "execution_count": 4,
   "id": "07441b70",
   "metadata": {
    "pycharm": {
     "name": "#%%\n"
    }
   },
   "outputs": [],
   "source": [
    "def data_processing(sub, field = \"submission\", info=False):\n",
    "    file_name = \"data/\" + field + \"_\" + sub + \".csv\"\n",
    "    df = pd.read_csv(file_name,index_col=0)\n",
    "    if info:\n",
    "        print(\"subreddit : \" + sub)\n",
    "        print(df.describe())\n",
    "        print(df.info())\n",
    "    return df"
   ]
  },
  {
   "cell_type": "code",
   "execution_count": 5,
   "id": "c529613a",
   "metadata": {
    "pycharm": {
     "name": "#%%\n"
    }
   },
   "outputs": [],
   "source": [
    "def have_bidirectional_relationship(G, node1, node2):\n",
    "    \n",
    "    return G.has_edge(node1, node2) and G.has_edge(node2, node1)"
   ]
  },
  {
   "cell_type": "code",
   "execution_count": 6,
   "id": "6a767327",
   "metadata": {
    "pycharm": {
     "name": "#%%\n"
    }
   },
   "outputs": [],
   "source": [
    "def author_extraction(df_submission, df_comment):\n",
    "    df_comment.dropna(subset=['author'], inplace = True)\n",
    "    author = dict(zip(df_comment.id, df_comment.author))\n",
    "    df_submission.dropna(subset=['author'], inplace = True)\n",
    "    df_submission.reset_index(inplace=True)\n",
    "    author.update(zip(df_submission.id, df_submission.author))\n",
    "    return author"
   ]
  },
  {
   "cell_type": "code",
   "execution_count": 7,
   "id": "c7c96423",
   "metadata": {
    "pycharm": {
     "name": "#%%\n"
    }
   },
   "outputs": [],
   "source": [
    "def relation_extraction(df, author):\n",
    "    relation = []\n",
    "    \n",
    "    top_level_df = df[df['parent_id'].str.contains(\"t3_\")].dropna()\n",
    "    not_top_level_df = df[df['parent_id'].str.contains(\"t1_\")].dropna()\n",
    "    \n",
    "    for index, row in top_level_df.iterrows():\n",
    "        try:\n",
    "            parent_author = author[row[\"parent_id\"][3:]]\n",
    "            relation.append((row[\"author\"], parent_author))\n",
    "        except:\n",
    "            pass\n",
    "    \n",
    "    for index, row in not_top_level_df.iterrows():\n",
    "        try:\n",
    "            parent_author = author[row[\"parent_id\"][3:]]\n",
    "            relation.append((row[\"author\"], parent_author))\n",
    "        except:\n",
    "            pass\n",
    "    \n",
    "    return relation"
   ]
  },
  {
   "cell_type": "code",
   "execution_count": 8,
   "id": "07042bd2",
   "metadata": {
    "pycharm": {
     "name": "#%%\n"
    }
   },
   "outputs": [],
   "source": [
    "def network_extraction(sub):\n",
    "    comment_df = data_processing(sub, field = \"comment\")\n",
    "    submission_df = data_processing(sub)\n",
    "    author_dict = author_extraction(submission_df, comment_df)\n",
    "    relation = relation_extraction(comment_df, author_dict)\n",
    "    return relation"
   ]
  },
  {
   "cell_type": "code",
   "execution_count": 9,
   "id": "a6cba7ca",
   "metadata": {
    "pycharm": {
     "name": "#%%\n"
    }
   },
   "outputs": [],
   "source": [
    "def network_to_df(net, threshold = 6):\n",
    "    counter = Counter(net)\n",
    "    counter = Counter({k: c for k, c in counter.items() if c >= threshold})\n",
    "    common_relation = sorted(counter, key=counter.get, reverse=True)\n",
    "    \n",
    "    relation_df = pd.DataFrame.from_dict(counter, orient='index').reset_index()\n",
    "    relation_df[['target','source']] = pd.DataFrame(relation_df['index'].tolist(),index=relation_df.index)\n",
    "    relation_df = relation_df[relation_df['source'] != relation_df['target']]\n",
    "    relation_df.drop(['index'], axis = 1, inplace = True)\n",
    "    relation_df.rename(columns = {0:'weight'}, inplace = True)\n",
    "    relation_df = relation_df[['source', 'target', 'weight']]\n",
    "    \n",
    "    return relation_df"
   ]
  },
  {
   "cell_type": "code",
   "execution_count": 10,
   "id": "f2a8d535",
   "metadata": {
    "pycharm": {
     "name": "#%%\n"
    }
   },
   "outputs": [],
   "source": [
    "def network_builder(relation_df, threshold = 5, net_type = \"simple\", sub = None):\n",
    "    filename = 'output/r_' + sub + '_' + net_type + '.html'\n",
    "    \n",
    "    G = nx.from_pandas_edgelist(relation_df, 'source', 'target', 'weight')\n",
    "    \n",
    "    for component in list(nx.connected_components(G)):\n",
    "        if len(component) < threshold:\n",
    "            for node in component:\n",
    "                G.remove_node(node)\n",
    "    \n",
    "    net = Network(height=\"750px\", width=\"100%\", bgcolor=\"#222222\", \n",
    "                     font_color=\"white\", notebook = True, cdn_resources = 'remote')\n",
    "\n",
    "    # set the physics layout of the network\n",
    "    net.barnes_hut()\n",
    "    net.from_nx(G)\n",
    "    try:\n",
    "        net.show(filename)\n",
    "    except:\n",
    "        pass"
   ]
  },
  {
   "cell_type": "code",
   "execution_count": 11,
   "id": "7b17d105",
   "metadata": {
    "pycharm": {
     "name": "#%%\n"
    }
   },
   "outputs": [],
   "source": [
    "def mutual_network_builder(relation_df, threshold = 10, sub = None):\n",
    "    filename = 'output/r_' + sub + '_mutual.html'\n",
    "    \n",
    "    G = nx.from_pandas_edgelist(relation_df, 'source', 'target', 'weight', \n",
    "                                create_using = nx.DiGraph())\n",
    "        \n",
    "    biconnections = []\n",
    "\n",
    "    for u, v, w in G.edges.data(\"weight\"):\n",
    "        if u > v:\n",
    "            v, u = u, v\n",
    "        if have_bidirectional_relationship(G, u, v):\n",
    "            if u != v:\n",
    "                biconnections.append((u, v, w))\n",
    "        \n",
    "    G_02 = nx.DiGraph()\n",
    "    G_02.add_nodes_from(relation_df[\"source\"])\n",
    "    G_02.add_weighted_edges_from(biconnections)\n",
    "    G_02.remove_nodes_from(list(nx.isolates(G_02)))\n",
    "    \n",
    "    for component in list(nx.weakly_connected_components(G_02)):\n",
    "        if len(component) < threshold:\n",
    "            for node in component:\n",
    "                G_02.remove_node(node)\n",
    "                \n",
    "    remains = []\n",
    "\n",
    "    for u, v, w in G_02.edges.data(\"weight\"):\n",
    "        remains.append((u, v, w))\n",
    "        \n",
    "        \n",
    "    mut_net = Network(height=\"750px\", width=\"100%\", bgcolor=\"#222222\", font_color=\"white\")\n",
    "\n",
    "    # set the physics layout of the network\n",
    "    mut_net.barnes_hut()\n",
    "\n",
    "    for e in remains:\n",
    "        src = e[0]\n",
    "        dst = e[1]\n",
    "        w = e[2]\n",
    "\n",
    "        mut_net.add_node(src, src, title=src, color = \"orange\")\n",
    "        mut_net.add_node(dst, dst, title=dst, color = \"orange\")\n",
    "        mut_net.add_edge(src, dst, value=w, color = \"orange\")\n",
    "\n",
    "    neighbor_map = mut_net.get_adj_list()\n",
    "\n",
    "    # add neighbor data to node hover data\n",
    "    for node in mut_net.nodes:\n",
    "                    node[\"title\"] += \" Neighbors:<br>\" + \"<br>\".join(neighbor_map[node[\"id\"]])\n",
    "                    node[\"value\"] = len(neighbor_map[node[\"id\"]])\n",
    "\n",
    "    try:\n",
    "        mut_net.show(filename)\n",
    "    except:\n",
    "        pass\n"
   ]
  },
  {
   "cell_type": "code",
   "execution_count": 12,
   "id": "146c2e1a",
   "metadata": {
    "pycharm": {
     "name": "#%%\n"
    }
   },
   "outputs": [],
   "source": [
    "relation = network_extraction(\"politics\")"
   ]
  },
  {
   "cell_type": "code",
   "execution_count": 13,
   "id": "04d21aa3",
   "metadata": {
    "pycharm": {
     "name": "#%%\n"
    }
   },
   "outputs": [],
   "source": [
    "relation_df = network_to_df(relation, threshold = 6)\n",
    "network_builder(relation_df, sub = \"politics\")"
   ]
  },
  {
   "cell_type": "code",
   "execution_count": 14,
   "id": "56984f8c",
   "metadata": {
    "pycharm": {
     "name": "#%%\n"
    },
    "scrolled": true
   },
   "outputs": [],
   "source": [
    "relation_df = network_to_df(relation, threshold = 2)\n",
    "mutual_network_builder(relation_df, sub = \"politics\", threshold = 20)"
   ]
  },
  {
   "cell_type": "code",
   "execution_count": null,
   "id": "453f11db",
   "metadata": {
    "pycharm": {
     "name": "#%%\n"
    }
   },
   "outputs": [],
   "source": []
  }
 ],
 "metadata": {
  "kernelspec": {
   "display_name": "Python [conda env:IS_596]",
   "language": "python",
   "name": "conda-env-IS_596-py"
  },
  "language_info": {
   "codemirror_mode": {
    "name": "ipython",
    "version": 3
   },
   "file_extension": ".py",
   "mimetype": "text/x-python",
   "name": "python",
   "nbconvert_exporter": "python",
   "pygments_lexer": "ipython3",
   "version": "3.10.6"
  }
 },
 "nbformat": 4,
 "nbformat_minor": 5
}
