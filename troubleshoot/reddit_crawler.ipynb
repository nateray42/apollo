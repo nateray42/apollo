{
 "cells": [
  {
   "cell_type": "code",
   "execution_count": 19,
   "id": "1da823cd",
   "metadata": {},
   "outputs": [],
   "source": [
    "import praw\n",
    "import pandas as pd\n",
    "import json\n",
    "from tqdm.notebook import tqdm\n",
    "\n",
    "client_id = 'QXgnNilxAJoowxnJqYSUmA'\n",
    "client_secret = 'oigCTLqOddP8NkRg_CHbFDI0SElr3w'\n",
    "\n",
    "reddit = praw.Reddit(client_id = client_id,\n",
    "                     client_secret = client_secret,\n",
    "                     user_agent = 'IS 596')"
   ]
  },
  {
   "cell_type": "code",
   "execution_count": 20,
   "id": "4746cc90",
   "metadata": {},
   "outputs": [],
   "source": [
    "subreddit_list = [\"conservative\", \"conspiracy\", \"politics\", \"worldnews\"]"
   ]
  },
  {
   "cell_type": "code",
   "execution_count": 21,
   "id": "77e4f52e",
   "metadata": {},
   "outputs": [],
   "source": [
    "def subreddit_crawler(sub, limit = 10):\n",
    "    subreddit = reddit.subreddit(sub)\n",
    "    post_list = []\n",
    "    submission_fields = ['id', 'author', 'title', 'selftext', 'num_comments',\n",
    "              'score', 'upvote_ratio', 'created_utc', 'url']\n",
    "    for submission in subreddit.top(limit = limit, time_filter = \"year\"):\n",
    "        to_dict = vars(submission)\n",
    "        sub_dict = {field:to_dict[field] for field in submission_fields}\n",
    "        post_list.append(sub_dict)\n",
    "    \n",
    "    subs_data = pd.DataFrame(data = post_list, columns=submission_fields)\n",
    "    file_name = \"data/\" + \"submission_\" + sub + \".csv\"\n",
    "    subs_data.to_csv(file_name, index = False)"
   ]
  },
  {
   "cell_type": "code",
   "execution_count": 22,
   "id": "ca07c767",
   "metadata": {},
   "outputs": [],
   "source": [
    "def data_processing(sub, field = \"submission\"):\n",
    "    file_name = \"data/\" + field + \"_\" + sub + \".csv\"\n",
    "    df = pd.read_csv(file_name,index_col=0)\n",
    "    print(\"subreddit : \" + sub)\n",
    "    print(df.describe())\n",
    "    print(df.info())"
   ]
  },
  {
   "cell_type": "code",
   "execution_count": 23,
   "id": "1bdac295",
   "metadata": {},
   "outputs": [],
   "source": [
    "def comment_parser(sub, checkpoint = 0):\n",
    "    file_name = \"data/\" + \"submission_\" + sub + \".csv\"\n",
    "    df = pd.read_csv(file_name)\n",
    "    \n",
    "    sublist = df[\"id\"].tolist()\n",
    "    sublist = sublist[checkpoint:]\n",
    "    fields = ['id', 'author', 'body',  'parent_id',\n",
    "              'score', 'subreddit', 'subreddit_id', 'submission_id']\n",
    "    parsing_fields = ['id', 'author', 'body',  'parent_id',\n",
    "              'score', 'subreddit', 'subreddit_id']\n",
    "    \n",
    "    file_name = \"data/\" + \"comment_\" + sub + \".csv\"\n",
    "    \n",
    "    if not checkpoint:\n",
    "        df = pd.DataFrame(columns=fields)\n",
    "        df.to_csv(file_name)\n",
    "    \n",
    "    for post in tqdm(sublist):\n",
    "        comment_list = []\n",
    "        submission = reddit.submission(post)\n",
    "        submission.comments.replace_more(limit=8)\n",
    "        for comment in submission.comments.list():\n",
    "            to_dict = vars(comment)\n",
    "            sub_dict = {field:to_dict[field] for field in parsing_fields}\n",
    "            sub_dict.update({'submission' : submission.id})\n",
    "            comment_list.append(sub_dict)\n",
    "        df = pd.DataFrame(data = comment_list)\n",
    "        df.to_csv(file_name, mode='a', header = False)\n",
    "            \n",
    "    comm_data = pd.DataFrame(data = comment_list, columns=fields)\n",
    "    file_name = \"data/\" + sub + \"_comment.csv\"\n",
    "    subs_data.to_csv(file_name, index = False)"
   ]
  },
  {
   "cell_type": "code",
   "execution_count": 24,
   "id": "8cea7f02",
   "metadata": {},
   "outputs": [
    {
     "data": {
      "application/vnd.jupyter.widget-view+json": {
       "model_id": "968157e08cce4689be7f9b40498718e8",
       "version_major": 2,
       "version_minor": 0
      },
      "text/plain": [
       "  0%|          | 0/4 [00:00<?, ?it/s]"
      ]
     },
     "metadata": {},
     "output_type": "display_data"
    }
   ],
   "source": [
    "for sub in tqdm(subreddit_list):\n",
    "    subreddit_crawler(sub, limit = 50)"
   ]
  },
  {
   "cell_type": "code",
   "execution_count": 25,
   "id": "b022aff9",
   "metadata": {
    "scrolled": false
   },
   "outputs": [
    {
     "name": "stdout",
     "output_type": "stream",
     "text": [
      "subreddit : conservative\n",
      "       num_comments         score  upvote_ratio   created_utc\n",
      "count     50.000000     50.000000     50.000000  5.000000e+01\n",
      "mean    1507.200000  10062.960000      0.766200  1.652674e+09\n",
      "std     1775.331518   7250.946722      0.079383  1.005257e+07\n",
      "min       17.000000   4955.000000      0.600000  1.638890e+09\n",
      "25%      430.000000   5456.000000      0.710000  1.644462e+09\n",
      "50%      731.000000   6667.000000      0.770000  1.652030e+09\n",
      "75%     1953.000000  12102.750000      0.820000  1.660673e+09\n",
      "max     8606.000000  39524.000000      0.910000  1.668478e+09\n",
      "<class 'pandas.core.frame.DataFrame'>\n",
      "Index: 50 entries, ux33k8 to wf89ml\n",
      "Data columns (total 8 columns):\n",
      " #   Column        Non-Null Count  Dtype  \n",
      "---  ------        --------------  -----  \n",
      " 0   author        47 non-null     object \n",
      " 1   title         50 non-null     object \n",
      " 2   selftext      2 non-null      object \n",
      " 3   num_comments  50 non-null     int64  \n",
      " 4   score         50 non-null     int64  \n",
      " 5   upvote_ratio  50 non-null     float64\n",
      " 6   created_utc   50 non-null     float64\n",
      " 7   url           50 non-null     object \n",
      "dtypes: float64(2), int64(2), object(4)\n",
      "memory usage: 3.5+ KB\n",
      "None\n",
      "subreddit : conspiracy\n",
      "       num_comments         score  upvote_ratio   created_utc\n",
      "count      50.00000     50.000000     50.000000  5.000000e+01\n",
      "mean     1068.06000   9492.780000      0.881600  1.651431e+09\n",
      "std       895.42751   3244.883554      0.078308  8.592787e+06\n",
      "min       262.00000   6845.000000      0.660000  1.638296e+09\n",
      "25%       555.50000   7476.750000      0.840000  1.644836e+09\n",
      "50%       758.50000   8358.000000      0.920000  1.651822e+09\n",
      "75%      1247.00000  10302.000000      0.940000  1.658318e+09\n",
      "max      5388.00000  24082.000000      0.960000  1.669296e+09\n",
      "<class 'pandas.core.frame.DataFrame'>\n",
      "Index: 50 entries, uykogw to rb6azk\n",
      "Data columns (total 8 columns):\n",
      " #   Column        Non-Null Count  Dtype  \n",
      "---  ------        --------------  -----  \n",
      " 0   author        48 non-null     object \n",
      " 1   title         50 non-null     object \n",
      " 2   selftext      6 non-null      object \n",
      " 3   num_comments  50 non-null     int64  \n",
      " 4   score         50 non-null     int64  \n",
      " 5   upvote_ratio  50 non-null     float64\n",
      " 6   created_utc   50 non-null     float64\n",
      " 7   url           50 non-null     object \n",
      "dtypes: float64(2), int64(2), object(4)\n",
      "memory usage: 3.5+ KB\n",
      "None\n",
      "subreddit : politics\n",
      "       num_comments          score  upvote_ratio   created_utc\n",
      "count       50.0000      50.000000     50.000000  5.000000e+01\n",
      "mean      5363.5400   90659.980000      0.865800  1.654837e+09\n",
      "std       2940.8094    9828.483196      0.060105  8.589952e+06\n",
      "min       1773.0000   78802.000000      0.710000  1.641508e+09\n",
      "25%       3168.7500   83171.250000      0.840000  1.646444e+09\n",
      "50%       4428.0000   88438.000000      0.865000  1.655881e+09\n",
      "75%       6749.5000   94831.000000      0.910000  1.661207e+09\n",
      "max      13570.0000  119402.000000      0.960000  1.669146e+09\n",
      "<class 'pandas.core.frame.DataFrame'>\n",
      "Index: 50 entries, t2suj2 to sof3ed\n",
      "Data columns (total 8 columns):\n",
      " #   Column        Non-Null Count  Dtype  \n",
      "---  ------        --------------  -----  \n",
      " 0   author        46 non-null     object \n",
      " 1   title         50 non-null     object \n",
      " 2   selftext      1 non-null      object \n",
      " 3   num_comments  50 non-null     int64  \n",
      " 4   score         50 non-null     int64  \n",
      " 5   upvote_ratio  50 non-null     float64\n",
      " 6   created_utc   50 non-null     float64\n",
      " 7   url           50 non-null     object \n",
      "dtypes: float64(2), int64(2), object(4)\n",
      "memory usage: 3.5+ KB\n",
      "None\n",
      "subreddit : worldnews\n",
      "       selftext  num_comments          score  upvote_ratio   created_utc\n",
      "count       0.0     50.000000      50.000000     50.000000  5.000000e+01\n",
      "mean        NaN   6128.300000  118818.180000      0.901600  1.647750e+09\n",
      "std         NaN   3101.162154   25203.212154      0.042106  4.899614e+06\n",
      "min         NaN   1701.000000   95906.000000      0.750000  1.638914e+09\n",
      "25%         NaN   3906.500000  101306.250000      0.890000  1.645831e+09\n",
      "50%         NaN   5561.000000  110840.000000      0.910000  1.646251e+09\n",
      "75%         NaN   7582.000000  123221.500000      0.930000  1.647342e+09\n",
      "max         NaN  16782.000000  200154.000000      0.950000  1.664106e+09\n",
      "<class 'pandas.core.frame.DataFrame'>\n",
      "Index: 50 entries, t3pgaz to t8yn8h\n",
      "Data columns (total 8 columns):\n",
      " #   Column        Non-Null Count  Dtype  \n",
      "---  ------        --------------  -----  \n",
      " 0   author        50 non-null     object \n",
      " 1   title         50 non-null     object \n",
      " 2   selftext      0 non-null      float64\n",
      " 3   num_comments  50 non-null     int64  \n",
      " 4   score         50 non-null     int64  \n",
      " 5   upvote_ratio  50 non-null     float64\n",
      " 6   created_utc   50 non-null     float64\n",
      " 7   url           50 non-null     object \n",
      "dtypes: float64(3), int64(2), object(3)\n",
      "memory usage: 3.5+ KB\n",
      "None\n"
     ]
    }
   ],
   "source": [
    "for sub in subreddit_list:\n",
    "    data_processing(sub)"
   ]
  },
  {
   "cell_type": "code",
   "execution_count": 26,
   "id": "6bdd43b2",
   "metadata": {},
   "outputs": [
    {
     "data": {
      "application/vnd.jupyter.widget-view+json": {
       "model_id": "99896bf233ee4be68d1c9a319752ab53",
       "version_major": 2,
       "version_minor": 0
      },
      "text/plain": [
       "  0%|          | 0/4 [00:00<?, ?it/s]"
      ]
     },
     "metadata": {},
     "output_type": "display_data"
    },
    {
     "data": {
      "application/vnd.jupyter.widget-view+json": {
       "model_id": "eb70acf591e54f888e8376b7a3d9fc0a",
       "version_major": 2,
       "version_minor": 0
      },
      "text/plain": [
       "  0%|          | 0/50 [00:00<?, ?it/s]"
      ]
     },
     "metadata": {},
     "output_type": "display_data"
    },
    {
     "ename": "NameError",
     "evalue": "name 'subs_data' is not defined",
     "output_type": "error",
     "traceback": [
      "\u001b[1;31m---------------------------------------------------------------------------\u001b[0m",
      "\u001b[1;31mNameError\u001b[0m                                 Traceback (most recent call last)",
      "Cell \u001b[1;32mIn [26], line 2\u001b[0m\n\u001b[0;32m      1\u001b[0m \u001b[38;5;28;01mfor\u001b[39;00m sub \u001b[38;5;129;01min\u001b[39;00m tqdm(subreddit_list):\n\u001b[1;32m----> 2\u001b[0m     \u001b[43mcomment_parser\u001b[49m\u001b[43m(\u001b[49m\u001b[43msub\u001b[49m\u001b[43m,\u001b[49m\u001b[43m \u001b[49m\u001b[43mcheckpoint\u001b[49m\u001b[43m \u001b[49m\u001b[38;5;241;43m=\u001b[39;49m\u001b[43m \u001b[49m\u001b[38;5;241;43m0\u001b[39;49m\u001b[43m)\u001b[49m\n",
      "Cell \u001b[1;32mIn [23], line 32\u001b[0m, in \u001b[0;36mcomment_parser\u001b[1;34m(sub, checkpoint)\u001b[0m\n\u001b[0;32m     30\u001b[0m comm_data \u001b[38;5;241m=\u001b[39m pd\u001b[38;5;241m.\u001b[39mDataFrame(data \u001b[38;5;241m=\u001b[39m comment_list, columns\u001b[38;5;241m=\u001b[39mfields)\n\u001b[0;32m     31\u001b[0m file_name \u001b[38;5;241m=\u001b[39m \u001b[38;5;124m\"\u001b[39m\u001b[38;5;124mdata/\u001b[39m\u001b[38;5;124m\"\u001b[39m \u001b[38;5;241m+\u001b[39m sub \u001b[38;5;241m+\u001b[39m \u001b[38;5;124m\"\u001b[39m\u001b[38;5;124m_comment.csv\u001b[39m\u001b[38;5;124m\"\u001b[39m\n\u001b[1;32m---> 32\u001b[0m \u001b[43msubs_data\u001b[49m\u001b[38;5;241m.\u001b[39mto_csv(file_name, index \u001b[38;5;241m=\u001b[39m \u001b[38;5;28;01mFalse\u001b[39;00m)\n",
      "\u001b[1;31mNameError\u001b[0m: name 'subs_data' is not defined"
     ]
    }
   ],
   "source": [
    "for sub in tqdm(subreddit_list):\n",
    "    comment_parser(sub, checkpoint = 0)"
   ]
  },
  {
   "cell_type": "code",
   "execution_count": null,
   "id": "6ef3ffa6",
   "metadata": {},
   "outputs": [],
   "source": []
  },
  {
   "cell_type": "code",
   "execution_count": null,
   "id": "ab189df7",
   "metadata": {},
   "outputs": [],
   "source": []
  }
 ],
 "metadata": {
  "kernelspec": {
   "display_name": "Python [conda env:IS_596]",
   "language": "python",
   "name": "conda-env-IS_596-py"
  },
  "language_info": {
   "codemirror_mode": {
    "name": "ipython",
    "version": 3
   },
   "file_extension": ".py",
   "mimetype": "text/x-python",
   "name": "python",
   "nbconvert_exporter": "python",
   "pygments_lexer": "ipython3",
   "version": "3.10.6"
  }
 },
 "nbformat": 4,
 "nbformat_minor": 5
}
