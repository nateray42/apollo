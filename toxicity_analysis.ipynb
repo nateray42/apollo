{
 "cells": [
  {
   "cell_type": "code",
   "execution_count": 20,
   "id": "fc592837",
   "metadata": {},
   "outputs": [],
   "source": [
    "import pandas as pd\n",
    "import matplotlib.pyplot as plt\n",
    "import numpy as np\n",
    "from collections import Counter\n",
    "import re\n",
    "import os\n",
    "from tqdm.notebook import tqdm"
   ]
  },
  {
   "cell_type": "code",
   "execution_count": 18,
   "id": "4b881794",
   "metadata": {},
   "outputs": [
    {
     "name": "stderr",
     "output_type": "stream",
     "text": [
      "No model was supplied, defaulted to distilbert-base-uncased-finetuned-sst-2-english (https://huggingface.co/distilbert-base-uncased-finetuned-sst-2-english)\n"
     ]
    }
   ],
   "source": [
    "from transformers import pipeline\n",
    "sentiment_analysis = pipeline(\"sentiment-analysis\")\n",
    "sentiment_toxicity = pipeline(\"sentiment-analysis\", model=\"unitary/toxic-bert\")\n",
    "\n",
    "tokenizer_kwargs = {'padding':True,'truncation':True,'max_length':512}"
   ]
  },
  {
   "cell_type": "code",
   "execution_count": 6,
   "id": "1dbfb35a",
   "metadata": {},
   "outputs": [],
   "source": [
    "def data_processing(sub, field = \"submission\", info=False):\n",
    "    file_name = \"data/\" + field + \"_\" + sub + \".csv\"\n",
    "    df = pd.read_csv(file_name,index_col=0)\n",
    "    if info:\n",
    "        print(\"subreddit : \" + sub)\n",
    "        print(df.describe())\n",
    "        print(df.info())\n",
    "    return df"
   ]
  },
  {
   "cell_type": "code",
   "execution_count": 22,
   "id": "bed43ec6",
   "metadata": {},
   "outputs": [],
   "source": [
    "def toxicity_analysis(text_list):\n",
    "    toxicity = []\n",
    "    for comment in tqdm(pol_df_text):\n",
    "        results = sentiment_toxicity(comment, **tokenizer_kwargs)\n",
    "        toxicity.append(results[0])\n",
    "    return toxicity"
   ]
  },
  {
   "cell_type": "code",
   "execution_count": 25,
   "id": "dcc6038a",
   "metadata": {},
   "outputs": [],
   "source": [
    "def dataframe_toixicity(df, column='body'):\n",
    "    df_text = df[column].to_list()\n",
    "    toxicity_score = toxicity_analysis(df_text)\n",
    "    df_toxicity = pd.DataFrame(toxicity_score)\n",
    "    df_toxicity.rename(columns = {'score':'toxicity_score'}, inplace = True)\n",
    "    df= df.join(df_toxicity)\n",
    "    return df"
   ]
  },
  {
   "cell_type": "code",
   "execution_count": 7,
   "id": "8c8d2f4f",
   "metadata": {},
   "outputs": [],
   "source": [
    "pol_df = data_processing(\"politics\", field = \"comment\")"
   ]
  },
  {
   "cell_type": "code",
   "execution_count": 26,
   "id": "1ab7ac71",
   "metadata": {},
   "outputs": [
    {
     "data": {
      "application/vnd.jupyter.widget-view+json": {
       "model_id": "5f0dee58a5bc4b1db202079fa3d10766",
       "version_major": 2,
       "version_minor": 0
      },
      "text/plain": [
       "  0%|          | 0/4999 [00:00<?, ?it/s]"
      ]
     },
     "metadata": {},
     "output_type": "display_data"
    }
   ],
   "source": [
    "df = dataframe_toixicity(pol_df)"
   ]
  },
  {
   "cell_type": "code",
   "execution_count": 27,
   "id": "db02f9b1",
   "metadata": {},
   "outputs": [
    {
     "data": {
      "text/html": [
       "<div>\n",
       "<style scoped>\n",
       "    .dataframe tbody tr th:only-of-type {\n",
       "        vertical-align: middle;\n",
       "    }\n",
       "\n",
       "    .dataframe tbody tr th {\n",
       "        vertical-align: top;\n",
       "    }\n",
       "\n",
       "    .dataframe thead th {\n",
       "        text-align: right;\n",
       "    }\n",
       "</style>\n",
       "<table border=\"1\" class=\"dataframe\">\n",
       "  <thead>\n",
       "    <tr style=\"text-align: right;\">\n",
       "      <th></th>\n",
       "      <th>id</th>\n",
       "      <th>author</th>\n",
       "      <th>body</th>\n",
       "      <th>parent_id</th>\n",
       "      <th>score</th>\n",
       "      <th>subreddit</th>\n",
       "      <th>subreddit_id</th>\n",
       "      <th>submission_id</th>\n",
       "      <th>label</th>\n",
       "      <th>toxicity_score</th>\n",
       "    </tr>\n",
       "  </thead>\n",
       "  <tbody>\n",
       "    <tr>\n",
       "      <th>0</th>\n",
       "      <td>hynym3j</td>\n",
       "      <td>AutoModerator</td>\n",
       "      <td>\\nAs a reminder, this subreddit [is for civil ...</td>\n",
       "      <td>t3_t2suj2</td>\n",
       "      <td>1</td>\n",
       "      <td>politics</td>\n",
       "      <td>t5_2cneq</td>\n",
       "      <td>t2suj2</td>\n",
       "      <td>toxic</td>\n",
       "      <td>0.000705</td>\n",
       "    </tr>\n",
       "    <tr>\n",
       "      <th>0</th>\n",
       "      <td>hyda5f5</td>\n",
       "      <td>AutoModerator</td>\n",
       "      <td>\\nAs a reminder, this subreddit [is for civil ...</td>\n",
       "      <td>t3_t11uq0</td>\n",
       "      <td>1</td>\n",
       "      <td>politics</td>\n",
       "      <td>t5_2cneq</td>\n",
       "      <td>t11uq0</td>\n",
       "      <td>toxic</td>\n",
       "      <td>0.000705</td>\n",
       "    </tr>\n",
       "    <tr>\n",
       "      <th>0</th>\n",
       "      <td>hrjyvwr</td>\n",
       "      <td>AutoModerator</td>\n",
       "      <td>\\nAs a reminder, this subreddit [is for civil ...</td>\n",
       "      <td>t3_rxqvwi</td>\n",
       "      <td>1</td>\n",
       "      <td>politics</td>\n",
       "      <td>t5_2cneq</td>\n",
       "      <td>rxqvwi</td>\n",
       "      <td>toxic</td>\n",
       "      <td>0.000705</td>\n",
       "    </tr>\n",
       "    <tr>\n",
       "      <th>0</th>\n",
       "      <td>idtblfd</td>\n",
       "      <td>AutoModerator</td>\n",
       "      <td>\\nAs a reminder, this subreddit [is for civil ...</td>\n",
       "      <td>t3_vl6xm2</td>\n",
       "      <td>1</td>\n",
       "      <td>politics</td>\n",
       "      <td>t5_2cneq</td>\n",
       "      <td>vl6xm2</td>\n",
       "      <td>toxic</td>\n",
       "      <td>0.000705</td>\n",
       "    </tr>\n",
       "    <tr>\n",
       "      <th>0</th>\n",
       "      <td>hx7l2y4</td>\n",
       "      <td>AutoModerator</td>\n",
       "      <td>\\nAs a reminder, this subreddit [is for civil ...</td>\n",
       "      <td>t3_su3zob</td>\n",
       "      <td>1</td>\n",
       "      <td>politics</td>\n",
       "      <td>t5_2cneq</td>\n",
       "      <td>su3zob</td>\n",
       "      <td>toxic</td>\n",
       "      <td>0.000705</td>\n",
       "    </tr>\n",
       "  </tbody>\n",
       "</table>\n",
       "</div>"
      ],
      "text/plain": [
       "        id         author                                               body  \\\n",
       "0  hynym3j  AutoModerator  \\nAs a reminder, this subreddit [is for civil ...   \n",
       "0  hyda5f5  AutoModerator  \\nAs a reminder, this subreddit [is for civil ...   \n",
       "0  hrjyvwr  AutoModerator  \\nAs a reminder, this subreddit [is for civil ...   \n",
       "0  idtblfd  AutoModerator  \\nAs a reminder, this subreddit [is for civil ...   \n",
       "0  hx7l2y4  AutoModerator  \\nAs a reminder, this subreddit [is for civil ...   \n",
       "\n",
       "   parent_id  score subreddit subreddit_id submission_id  label  \\\n",
       "0  t3_t2suj2      1  politics     t5_2cneq        t2suj2  toxic   \n",
       "0  t3_t11uq0      1  politics     t5_2cneq        t11uq0  toxic   \n",
       "0  t3_rxqvwi      1  politics     t5_2cneq        rxqvwi  toxic   \n",
       "0  t3_vl6xm2      1  politics     t5_2cneq        vl6xm2  toxic   \n",
       "0  t3_su3zob      1  politics     t5_2cneq        su3zob  toxic   \n",
       "\n",
       "   toxicity_score  \n",
       "0        0.000705  \n",
       "0        0.000705  \n",
       "0        0.000705  \n",
       "0        0.000705  \n",
       "0        0.000705  "
      ]
     },
     "execution_count": 27,
     "metadata": {},
     "output_type": "execute_result"
    }
   ],
   "source": [
    "df.head()"
   ]
  },
  {
   "cell_type": "code",
   "execution_count": 31,
   "id": "8cccc3c1",
   "metadata": {},
   "outputs": [
    {
     "data": {
      "text/html": [
       "<div>\n",
       "<style scoped>\n",
       "    .dataframe tbody tr th:only-of-type {\n",
       "        vertical-align: middle;\n",
       "    }\n",
       "\n",
       "    .dataframe tbody tr th {\n",
       "        vertical-align: top;\n",
       "    }\n",
       "\n",
       "    .dataframe thead th {\n",
       "        text-align: right;\n",
       "    }\n",
       "</style>\n",
       "<table border=\"1\" class=\"dataframe\">\n",
       "  <thead>\n",
       "    <tr style=\"text-align: right;\">\n",
       "      <th></th>\n",
       "      <th>id</th>\n",
       "      <th>author</th>\n",
       "      <th>body</th>\n",
       "      <th>parent_id</th>\n",
       "      <th>score</th>\n",
       "      <th>subreddit</th>\n",
       "      <th>subreddit_id</th>\n",
       "      <th>submission_id</th>\n",
       "      <th>label</th>\n",
       "      <th>toxicity_score</th>\n",
       "    </tr>\n",
       "  </thead>\n",
       "  <tbody>\n",
       "    <tr>\n",
       "      <th>388</th>\n",
       "      <td>hrkqpch</td>\n",
       "      <td>anarcho-onychophora</td>\n",
       "      <td>Are there any historical polls of this questio...</td>\n",
       "      <td>t3_rxqvwi</td>\n",
       "      <td>1</td>\n",
       "      <td>politics</td>\n",
       "      <td>t5_2cneq</td>\n",
       "      <td>rxqvwi</td>\n",
       "      <td>toxic</td>\n",
       "      <td>0.998678</td>\n",
       "    </tr>\n",
       "    <tr>\n",
       "      <th>388</th>\n",
       "      <td>hye5ms2</td>\n",
       "      <td>nta1646</td>\n",
       "      <td>I’ve been noticing a lot of Pro-Trump people s...</td>\n",
       "      <td>t3_t11uq0</td>\n",
       "      <td>2</td>\n",
       "      <td>politics</td>\n",
       "      <td>t5_2cneq</td>\n",
       "      <td>t11uq0</td>\n",
       "      <td>toxic</td>\n",
       "      <td>0.998678</td>\n",
       "    </tr>\n",
       "    <tr>\n",
       "      <th>388</th>\n",
       "      <td>hyptqjf</td>\n",
       "      <td>quantifical</td>\n",
       "      <td>Putin supporters, go fuck yourselves</td>\n",
       "      <td>t3_t2suj2</td>\n",
       "      <td>2</td>\n",
       "      <td>politics</td>\n",
       "      <td>t5_2cneq</td>\n",
       "      <td>t2suj2</td>\n",
       "      <td>toxic</td>\n",
       "      <td>0.998678</td>\n",
       "    </tr>\n",
       "    <tr>\n",
       "      <th>388</th>\n",
       "      <td>idtqk0r</td>\n",
       "      <td>D-F-B-81</td>\n",
       "      <td>Just imagine the roles reversed... \\n\\nHad the...</td>\n",
       "      <td>t3_vl6xm2</td>\n",
       "      <td>-2</td>\n",
       "      <td>politics</td>\n",
       "      <td>t5_2cneq</td>\n",
       "      <td>vl6xm2</td>\n",
       "      <td>toxic</td>\n",
       "      <td>0.998678</td>\n",
       "    </tr>\n",
       "    <tr>\n",
       "      <th>647</th>\n",
       "      <td>idu3vje</td>\n",
       "      <td>kryppla</td>\n",
       "      <td>Agree and why would this be an extreme opinion...</td>\n",
       "      <td>t3_vl6xm2</td>\n",
       "      <td>1</td>\n",
       "      <td>politics</td>\n",
       "      <td>t5_2cneq</td>\n",
       "      <td>vl6xm2</td>\n",
       "      <td>toxic</td>\n",
       "      <td>0.998590</td>\n",
       "    </tr>\n",
       "  </tbody>\n",
       "</table>\n",
       "</div>"
      ],
      "text/plain": [
       "          id               author  \\\n",
       "388  hrkqpch  anarcho-onychophora   \n",
       "388  hye5ms2              nta1646   \n",
       "388  hyptqjf          quantifical   \n",
       "388  idtqk0r             D-F-B-81   \n",
       "647  idu3vje              kryppla   \n",
       "\n",
       "                                                  body  parent_id  score  \\\n",
       "388  Are there any historical polls of this questio...  t3_rxqvwi      1   \n",
       "388  I’ve been noticing a lot of Pro-Trump people s...  t3_t11uq0      2   \n",
       "388               Putin supporters, go fuck yourselves  t3_t2suj2      2   \n",
       "388  Just imagine the roles reversed... \\n\\nHad the...  t3_vl6xm2     -2   \n",
       "647  Agree and why would this be an extreme opinion...  t3_vl6xm2      1   \n",
       "\n",
       "    subreddit subreddit_id submission_id  label  toxicity_score  \n",
       "388  politics     t5_2cneq        rxqvwi  toxic        0.998678  \n",
       "388  politics     t5_2cneq        t11uq0  toxic        0.998678  \n",
       "388  politics     t5_2cneq        t2suj2  toxic        0.998678  \n",
       "388  politics     t5_2cneq        vl6xm2  toxic        0.998678  \n",
       "647  politics     t5_2cneq        vl6xm2  toxic        0.998590  "
      ]
     },
     "execution_count": 31,
     "metadata": {},
     "output_type": "execute_result"
    }
   ],
   "source": [
    "df.sort_values(['toxicity_score'], ascending=False).head()"
   ]
  },
  {
   "cell_type": "code",
   "execution_count": null,
   "id": "b70bdd90",
   "metadata": {},
   "outputs": [],
   "source": []
  }
 ],
 "metadata": {
  "kernelspec": {
   "display_name": "Python 3 (ipykernel)",
   "language": "python",
   "name": "python3"
  },
  "language_info": {
   "codemirror_mode": {
    "name": "ipython",
    "version": 3
   },
   "file_extension": ".py",
   "mimetype": "text/x-python",
   "name": "python",
   "nbconvert_exporter": "python",
   "pygments_lexer": "ipython3",
   "version": "3.9.7"
  }
 },
 "nbformat": 4,
 "nbformat_minor": 5
}
